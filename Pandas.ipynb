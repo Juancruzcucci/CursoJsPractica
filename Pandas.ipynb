{
  "nbformat": 4,
  "nbformat_minor": 0,
  "metadata": {
    "colab": {
      "name": "Pandas.ipynb",
      "provenance": [],
      "authorship_tag": "ABX9TyOyqwDndf7/bQB5FgDjkSWY",
      "include_colab_link": true
    },
    "kernelspec": {
      "name": "python3",
      "display_name": "Python 3"
    },
    "language_info": {
      "name": "python"
    }
  },
  "cells": [
    {
      "cell_type": "markdown",
      "metadata": {
        "id": "view-in-github",
        "colab_type": "text"
      },
      "source": [
        "<a href=\"https://colab.research.google.com/github/Juancruzcucci/CursoJsPractica/blob/main/Pandas.ipynb\" target=\"_parent\"><img src=\"https://colab.research.google.com/assets/colab-badge.svg\" alt=\"Open In Colab\"/></a>"
      ]
    },
    {
      "cell_type": "code",
      "execution_count": 1,
      "metadata": {
        "id": "TBR3TIpOerf9"
      },
      "outputs": [],
      "source": [
        "import pandas as pd\n"
      ]
    },
    {
      "cell_type": "markdown",
      "source": [
        "##Pandas Series"
      ],
      "metadata": {
        "id": "fFjKz7ChjdvO"
      }
    },
    {
      "cell_type": "code",
      "source": [
        "##Series funciona como una lista indexada pero utilizando llaves, como un diccionario.\n",
        "jugadores = pd.Series(['Messi', 'Mbappe', 'Neymar'], index = [30,7,10])"
      ],
      "metadata": {
        "id": "zI3ge6OVjbjm"
      },
      "execution_count": 2,
      "outputs": []
    },
    {
      "cell_type": "code",
      "source": [
        "jugadores##Como veran se arma una lista y aparte un indice donde se asignan las llaves."
      ],
      "metadata": {
        "colab": {
          "base_uri": "https://localhost:8080/"
        },
        "id": "1FzD12cYkBU8",
        "outputId": "77d9d0dc-ed26-4af7-b2f6-652f7e4e6e7e"
      },
      "execution_count": 4,
      "outputs": [
        {
          "output_type": "execute_result",
          "data": {
            "text/plain": [
              "30     Messi\n",
              "7     Mbappe\n",
              "10    Neymar\n",
              "dtype: object"
            ]
          },
          "metadata": {},
          "execution_count": 4
        }
      ]
    },
    {
      "cell_type": "code",
      "source": [
        "##Tambien se puede armar partiendo de un diccionario.\n",
        "dict = {30:'Messi', 7:'Mbappe', 10:'Neymar'}\n",
        "dict"
      ],
      "metadata": {
        "colab": {
          "base_uri": "https://localhost:8080/"
        },
        "id": "VMShYDOjkCcr",
        "outputId": "d7e25754-37e9-49c6-a108-5d77a8f1cc38"
      },
      "execution_count": 5,
      "outputs": [
        {
          "output_type": "execute_result",
          "data": {
            "text/plain": [
              "{7: 'Mbappe', 10: 'Neymar', 30: 'Messi'}"
            ]
          },
          "metadata": {},
          "execution_count": 5
        }
      ]
    },
    {
      "cell_type": "code",
      "source": [
        "pd.Series(dict) ## Como veras arroja el mismo resultado"
      ],
      "metadata": {
        "colab": {
          "base_uri": "https://localhost:8080/"
        },
        "id": "yE0C5MEGkkl2",
        "outputId": "149c5e4e-bc3b-48f0-fcbd-5e90318f8c44"
      },
      "execution_count": 7,
      "outputs": [
        {
          "output_type": "execute_result",
          "data": {
            "text/plain": [
              "30     Messi\n",
              "7     Mbappe\n",
              "10    Neymar\n",
              "dtype: object"
            ]
          },
          "metadata": {},
          "execution_count": 7
        }
      ]
    },
    {
      "cell_type": "code",
      "source": [
        ""
      ],
      "metadata": {
        "id": "OWXoDtW4kn-P"
      },
      "execution_count": null,
      "outputs": []
    }
  ]
}